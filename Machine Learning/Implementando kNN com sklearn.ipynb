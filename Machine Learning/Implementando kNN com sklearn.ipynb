{
 "cells": [
  {
   "cell_type": "code",
   "execution_count": 1,
   "metadata": {
    "collapsed": true
   },
   "outputs": [],
   "source": [
    "# Implementando kNN com sklearn\n",
    "\n",
    "from sklearn.neighbors import KNeighborsClassifier"
   ]
  },
  {
   "cell_type": "code",
   "execution_count": 2,
   "metadata": {
    "collapsed": true
   },
   "outputs": [],
   "source": [
    "entradas, saidas = [], []"
   ]
  },
  {
   "cell_type": "code",
   "execution_count": 3,
   "metadata": {
    "collapsed": true
   },
   "outputs": [],
   "source": [
    "# endereço absoluta de onde esta meu dataset e vou ler ele\n",
    "with open('/home/alison/Projetos/Data Science/DataSets/archive/dataset.data','r') as f:\n",
    "    \n",
    "    # faço um for para pegar cada linha do arquivo\n",
    "    for linha in f.readlines():\n",
    "    \n",
    "        # o atrib vai receber cada valor da linha separado por virgula\n",
    "        atrib = linha.replace('\\n', '').split(',')\n",
    "\n",
    "        # Coloque na lista entradas os valores da primeira e terceira linha\n",
    "        entradas.append([int(atrib[0]), int(atrib[2])])\n",
    "\n",
    "        saidas.append(int(atrib[3]))\n"
   ]
  },
  {
   "cell_type": "code",
   "execution_count": 4,
   "metadata": {
    "collapsed": true
   },
   "outputs": [],
   "source": [
    "# porcentagem dos dados de treinamento\n",
    "p = 0.6 "
   ]
  },
  {
   "cell_type": "code",
   "execution_count": 11,
   "metadata": {},
   "outputs": [
    {
     "name": "stdout",
     "output_type": "stream",
     "text": [
      "Total de treinamento: 183\n",
      "Total de testes: 123\n",
      "Total de acertos: 92\n",
      "Porcentagem de acertos: 74.80\n"
     ]
    }
   ],
   "source": [
    "# divido minhas amostras, para usa-las como amostras de treinamento e de teste\n",
    "limite = int(p * len(entradas))\n",
    "\n",
    "# quantos vizinhos eu quero usar, neste caso é 15\n",
    "knn = KNeighborsClassifier(n_neighbors=15)\n",
    "\n",
    "# agora passo as amostras de treinamento para meu algoritmo\n",
    "knn.fit(entradas[:limite], saidas[:limite])\n",
    "\n",
    "# obter os labels \n",
    "labels = knn.predict(entradas[limite:])\n",
    "\n",
    "acertos, indice_label = 0, 0\n",
    "\n",
    "# verificar quantidade de acertos de amostras de teste\n",
    "for i in range(limite, len(entradas)):\n",
    "    if labels[indice_label] == saidas[i]:\n",
    "        acertos += 1\n",
    "    indice_label += 1\n",
    "        \n",
    "print('Total de treinamento: %d' % limite)\n",
    "print('Total de testes: %d' % (len(entradas) - limite))\n",
    "print('Total de acertos: %d' % acertos)\n",
    "print('Porcentagem de acertos: %.2f' % (100 * acertos / (len(entradas) - limite)))        \n"
   ]
  },
  {
   "cell_type": "code",
   "execution_count": 13,
   "metadata": {},
   "outputs": [
    {
     "name": "stdout",
     "output_type": "stream",
     "text": [
      "Total de treinamento: 183\n",
      "Total de testes: 123\n",
      "Total de acertos: 93\n",
      "Porcentagem de acertos: 75.61\n"
     ]
    }
   ],
   "source": [
    "# 5 vizinhos\n",
    "# divido minhas amostras, para usa-las como amostras de treinamento e de teste\n",
    "limite = int(p * len(entradas))\n",
    "\n",
    "# quantos vizinhos eu quero usar, neste caso é 15\n",
    "knn = KNeighborsClassifier(n_neighbors=5)\n",
    "\n",
    "# agora passo as amostras de treinamento para meu algoritmo\n",
    "knn.fit(entradas[:limite], saidas[:limite])\n",
    "\n",
    "# obter os labels \n",
    "labels = knn.predict(entradas[limite:])\n",
    "\n",
    "acertos, indice_label = 0, 0\n",
    "\n",
    "# verificar quantidade de acertos de amostras de teste\n",
    "for i in range(limite, len(entradas)):\n",
    "    if labels[indice_label] == saidas[i]:\n",
    "        acertos += 1\n",
    "    indice_label += 1\n",
    "        \n",
    "print('Total de treinamento: %d' % limite)\n",
    "print('Total de testes: %d' % (len(entradas) - limite))\n",
    "print('Total de acertos: %d' % acertos)\n",
    "print('Porcentagem de acertos: %.2f' % (100 * acertos / (len(entradas) - limite)))  "
   ]
  },
  {
   "cell_type": "code",
   "execution_count": 14,
   "metadata": {},
   "outputs": [
    {
     "name": "stdout",
     "output_type": "stream",
     "text": [
      "Total de treinamento: 183\n",
      "Total de testes: 123\n",
      "Total de acertos: 93\n",
      "Porcentagem de acertos: 75.61\n"
     ]
    }
   ],
   "source": [
    "# vizinhos 3\n",
    "# divido minhas amostras, para usa-las como amostras de treinamento e de teste\n",
    "limite = int(p * len(entradas))\n",
    "\n",
    "# quantos vizinhos eu quero usar, neste caso é 15\n",
    "knn = KNeighborsClassifier(n_neighbors=3)\n",
    "\n",
    "# agora passo as amostras de treinamento para meu algoritmo\n",
    "knn.fit(entradas[:limite], saidas[:limite])\n",
    "\n",
    "# obter os labels \n",
    "labels = knn.predict(entradas[limite:])\n",
    "\n",
    "acertos, indice_label = 0, 0\n",
    "\n",
    "# verificar quantidade de acertos de amostras de teste\n",
    "for i in range(limite, len(entradas)):\n",
    "    if labels[indice_label] == saidas[i]:\n",
    "        acertos += 1\n",
    "    indice_label += 1\n",
    "        \n",
    "print('Total de treinamento: %d' % limite)\n",
    "print('Total de testes: %d' % (len(entradas) - limite))\n",
    "print('Total de acertos: %d' % acertos)\n",
    "print('Porcentagem de acertos: %.2f' % (100 * acertos / (len(entradas) - limite)))  "
   ]
  },
  {
   "cell_type": "code",
   "execution_count": null,
   "metadata": {
    "collapsed": true
   },
   "outputs": [],
   "source": []
  }
 ],
 "metadata": {
  "kernelspec": {
   "display_name": "Python 3",
   "language": "python",
   "name": "python3"
  },
  "language_info": {
   "codemirror_mode": {
    "name": "ipython",
    "version": 3
   },
   "file_extension": ".py",
   "mimetype": "text/x-python",
   "name": "python",
   "nbconvert_exporter": "python",
   "pygments_lexer": "ipython3",
   "version": "3.5.2"
  }
 },
 "nbformat": 4,
 "nbformat_minor": 2
}
