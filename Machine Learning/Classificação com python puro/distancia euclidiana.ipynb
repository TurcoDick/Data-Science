{
 "cells": [
  {
   "cell_type": "code",
   "execution_count": 6,
   "metadata": {
    "collapsed": true
   },
   "outputs": [],
   "source": [
    "import math, time\n",
    "v1 = [1.2, 2  , 3.8, 4.5]\n",
    "v2 = [0.5, 4.5, 9.6, 3.4]"
   ]
  },
  {
   "cell_type": "code",
   "execution_count": 4,
   "metadata": {},
   "outputs": [
    {
     "name": "stdout",
     "output_type": "stream",
     "text": [
      "6.45\n"
     ]
    }
   ],
   "source": [
    "# achando a distancia euclidianasem Numpy\n",
    "\n",
    "def dist_euclidiana(v1, v2):\n",
    "    dim = len(v1)\n",
    "    soma = 0\n",
    "    \n",
    "    for i in range(dim):\n",
    "        soma += math.pow(v1[i] - v2[i], 2)\n",
    "    return math.sqrt(soma)\n",
    "\n",
    "print(\"%.2f\" % dist_euclidiana(v1, v2))"
   ]
  },
  {
   "cell_type": "code",
   "execution_count": 5,
   "metadata": {},
   "outputs": [
    {
     "name": "stdout",
     "output_type": "stream",
     "text": [
      "6.45\n"
     ]
    }
   ],
   "source": [
    "# achando distancia euclidiana com NumPy\n",
    "import numpy as np\n",
    "\n",
    "def dist_euclidiana_np(v1, v2):\n",
    "    # transformando em array numpy\n",
    "    v1,v2 = np.array(v1), np.array(v2)\n",
    "    # fazendo a diferença entre esses arrays\n",
    "    diff = v1 - v2\n",
    "    # multiplicar as matrizes diff X diff\n",
    "    quad_dist = np.dot(diff, diff)\n",
    "    return math.sqrt(quad_dist)\n",
    "print(\"%.2f\" % dist_euclidiana_np(v1, v2))"
   ]
  },
  {
   "cell_type": "code",
   "execution_count": 18,
   "metadata": {},
   "outputs": [
    {
     "name": "stdout",
     "output_type": "stream",
     "text": [
      " 6.45\n",
      " 6.45\n",
      "Sem numpy eh mais rapido, e a diferença eh =  0.0003142356872558594\n"
     ]
    }
   ],
   "source": [
    "# Bacana mas e a eficiencia do algoritmo como fica,\n",
    "# dependendo de quantos dados talvez deva avaliar caso a caso\n",
    "\n",
    "inicio = time.time()\n",
    "print(\" %.2f\" % dist_euclidiana_np(v1, v2))\n",
    "fim = time.time()\n",
    "\n",
    "inicio2 = time.time()\n",
    "print(\" %.2f\" % dist_euclidiana(v1, v2))\n",
    "fim2 = time.time()\n",
    "\n",
    "semNumpy = fim2 - inicio2\n",
    "comNumpy = fim - inicio\n",
    "\n",
    "if semNumpy > comNumpy:\n",
    "    print(\"Com numpy eh mais rapido, e a diferença eh = \", semNumpy-comNumpy)\n",
    "else:\n",
    "    print(\"Sem numpy eh mais rapido, e a diferença eh = \", comNumpy - semNumpy)\n",
    "    \n"
   ]
  }
 ],
 "metadata": {
  "kernelspec": {
   "display_name": "Python 3",
   "language": "python",
   "name": "python3"
  },
  "language_info": {
   "codemirror_mode": {
    "name": "ipython",
    "version": 3
   },
   "file_extension": ".py",
   "mimetype": "text/x-python",
   "name": "python",
   "nbconvert_exporter": "python",
   "pygments_lexer": "ipython3",
   "version": "3.5.2"
  }
 },
 "nbformat": 4,
 "nbformat_minor": 2
}
