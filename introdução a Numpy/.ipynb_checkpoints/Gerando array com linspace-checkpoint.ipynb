{
 "cells": [
  {
   "cell_type": "code",
   "execution_count": 1,
   "metadata": {
    "collapsed": true
   },
   "outputs": [],
   "source": [
    "import numpy as np"
   ]
  },
  {
   "cell_type": "code",
   "execution_count": 3,
   "metadata": {},
   "outputs": [
    {
     "data": {
      "text/plain": [
       "array([ 2.        ,  2.04081633,  2.08163265,  2.12244898,  2.16326531,\n",
       "        2.20408163,  2.24489796,  2.28571429,  2.32653061,  2.36734694,\n",
       "        2.40816327,  2.44897959,  2.48979592,  2.53061224,  2.57142857,\n",
       "        2.6122449 ,  2.65306122,  2.69387755,  2.73469388,  2.7755102 ,\n",
       "        2.81632653,  2.85714286,  2.89795918,  2.93877551,  2.97959184,\n",
       "        3.02040816,  3.06122449,  3.10204082,  3.14285714,  3.18367347,\n",
       "        3.2244898 ,  3.26530612,  3.30612245,  3.34693878,  3.3877551 ,\n",
       "        3.42857143,  3.46938776,  3.51020408,  3.55102041,  3.59183673,\n",
       "        3.63265306,  3.67346939,  3.71428571,  3.75510204,  3.79591837,\n",
       "        3.83673469,  3.87755102,  3.91836735,  3.95918367,  4.        ])"
      ]
     },
     "execution_count": 3,
     "metadata": {},
     "output_type": "execute_result"
    }
   ],
   "source": [
    "# gera um array de valores uniformemente espaçados\n",
    "# primeiro parametro é onde deve começar\n",
    "# o segundo é onde deve parar, e é inclusivo(inclui o numero que passa como parametro)\n",
    "# o terceiro é a quantidade de numeros de retorno, o default é 50\n",
    "\n",
    "np.linspace(2.0, 4.0)"
   ]
  },
  {
   "cell_type": "code",
   "execution_count": 4,
   "metadata": {},
   "outputs": [
    {
     "data": {
      "text/plain": [
       "array([ 2.  ,  2.25,  2.5 ,  2.75,  3.  ])"
      ]
     },
     "execution_count": 4,
     "metadata": {},
     "output_type": "execute_result"
    }
   ],
   "source": [
    "np.linspace(2.0, 3.0, 5)"
   ]
  }
 ],
 "metadata": {
  "kernelspec": {
   "display_name": "Python 3",
   "language": "python",
   "name": "python3"
  },
  "language_info": {
   "codemirror_mode": {
    "name": "ipython",
    "version": 3
   },
   "file_extension": ".py",
   "mimetype": "text/x-python",
   "name": "python",
   "nbconvert_exporter": "python",
   "pygments_lexer": "ipython3",
   "version": "3.5.2"
  }
 },
 "nbformat": 4,
 "nbformat_minor": 2
}
