{
 "cells": [
  {
   "cell_type": "code",
   "execution_count": 10,
   "metadata": {},
   "outputs": [],
   "source": [
    "# definindo classes em Python\n",
    "class Pessoa:\n",
    "    \n",
    "    # construtor, o 1º parametro sempre é o self, o self é o objeto em si\n",
    "    def __init__(self, nome, idade):\n",
    "        self.nome = nome\n",
    "        self.idade = idade\n",
    "        \n",
    "    def imprimir_nome(self):\n",
    "        print(self.nome)\n",
    "        \n",
    "    def imprimir_idade(self):\n",
    "        print(self.idade)"
   ]
  },
  {
   "cell_type": "code",
   "execution_count": 11,
   "metadata": {},
   "outputs": [
    {
     "data": {
      "text/plain": [
       "__main__.Pessoa"
      ]
     },
     "execution_count": 11,
     "metadata": {},
     "output_type": "execute_result"
    }
   ],
   "source": [
    "instanciaDePessoa = Pessoa('Tio Patinhas', 61)\n",
    "type(instanciaDePessoa)"
   ]
  },
  {
   "cell_type": "code",
   "execution_count": 14,
   "metadata": {},
   "outputs": [
    {
     "name": "stdout",
     "output_type": "stream",
     "text": [
      "Tio Patinhas\n",
      "61\n",
      "Tio Patinhas\n",
      "61\n"
     ]
    }
   ],
   "source": [
    "# acessando os atributos\n",
    "print(instanciaDePessoa.nome)\n",
    "print(instanciaDePessoa.idade)\n",
    "instanciaDePessoa.imprimir_nome()\n",
    "instanciaDePessoa.imprimir_idade()"
   ]
  },
  {
   "cell_type": "code",
   "execution_count": 20,
   "metadata": {
    "collapsed": true
   },
   "outputs": [],
   "source": [
    "class Conta:\n",
    "    \n",
    "    def __init__(self, cliente, numero):\n",
    "        self.cliente = cliente\n",
    "        self.numero = numero\n",
    "        \n",
    "# a classe abaixo vai herdar de Conta\n",
    "class ContaEspecial(Conta):\n",
    "    \n",
    "    # construtor, o valor que já tem um valor default significa que se nada for passado para ele o limite é 0\n",
    "    def __init__(self, cliente, numero, limite=0):\n",
    "        # chamando o construtor da classe Conta\n",
    "        Conta.__init__(self, cliente, numero)\n",
    "    \n",
    "        # agora usamos o novo atributo\n",
    "        self.limite = limite"
   ]
  },
  {
   "cell_type": "code",
   "execution_count": 24,
   "metadata": {},
   "outputs": [
    {
     "name": "stdout",
     "output_type": "stream",
     "text": [
      "300\n"
     ]
    }
   ],
   "source": [
    "instancia_contaEspecial = ContaEspecial('Pateta','0006',300)\n",
    "print(instancia_contaEspecial.limite)"
   ]
  },
  {
   "cell_type": "code",
   "execution_count": 27,
   "metadata": {},
   "outputs": [
    {
     "name": "stdout",
     "output_type": "stream",
     "text": [
      "Alison\n",
      "1234\n"
     ]
    }
   ],
   "source": [
    "conta = Conta('Alison', '1234')\n",
    "print(conta.cliente)\n",
    "print(conta.numero)"
   ]
  }
 ],
 "metadata": {
  "kernelspec": {
   "display_name": "Python 3",
   "language": "python",
   "name": "python3"
  },
  "language_info": {
   "codemirror_mode": {
    "name": "ipython",
    "version": 3
   },
   "file_extension": ".py",
   "mimetype": "text/x-python",
   "name": "python",
   "nbconvert_exporter": "python",
   "pygments_lexer": "ipython3",
   "version": "3.5.2"
  }
 },
 "nbformat": 4,
 "nbformat_minor": 2
}
