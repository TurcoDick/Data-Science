{
 "cells": [
  {
   "cell_type": "code",
   "execution_count": 2,
   "metadata": {},
   "outputs": [
    {
     "name": "stdout",
     "output_type": "stream",
     "text": [
      "Help on class list in module builtins:\n",
      "\n",
      "class list(object)\n",
      " |  list() -> new empty list\n",
      " |  list(iterable) -> new list initialized from iterable's items\n",
      " |  \n",
      " |  Methods defined here:\n",
      " |  \n",
      " |  __add__(self, value, /)\n",
      " |      Return self+value.\n",
      " |  \n",
      " |  __contains__(self, key, /)\n",
      " |      Return key in self.\n",
      " |  \n",
      " |  __delitem__(self, key, /)\n",
      " |      Delete self[key].\n",
      " |  \n",
      " |  __eq__(self, value, /)\n",
      " |      Return self==value.\n",
      " |  \n",
      " |  __ge__(self, value, /)\n",
      " |      Return self>=value.\n",
      " |  \n",
      " |  __getattribute__(self, name, /)\n",
      " |      Return getattr(self, name).\n",
      " |  \n",
      " |  __getitem__(...)\n",
      " |      x.__getitem__(y) <==> x[y]\n",
      " |  \n",
      " |  __gt__(self, value, /)\n",
      " |      Return self>value.\n",
      " |  \n",
      " |  __iadd__(self, value, /)\n",
      " |      Implement self+=value.\n",
      " |  \n",
      " |  __imul__(self, value, /)\n",
      " |      Implement self*=value.\n",
      " |  \n",
      " |  __init__(self, /, *args, **kwargs)\n",
      " |      Initialize self.  See help(type(self)) for accurate signature.\n",
      " |  \n",
      " |  __iter__(self, /)\n",
      " |      Implement iter(self).\n",
      " |  \n",
      " |  __le__(self, value, /)\n",
      " |      Return self<=value.\n",
      " |  \n",
      " |  __len__(self, /)\n",
      " |      Return len(self).\n",
      " |  \n",
      " |  __lt__(self, value, /)\n",
      " |      Return self<value.\n",
      " |  \n",
      " |  __mul__(self, value, /)\n",
      " |      Return self*value.n\n",
      " |  \n",
      " |  __ne__(self, value, /)\n",
      " |      Return self!=value.\n",
      " |  \n",
      " |  __new__(*args, **kwargs) from builtins.type\n",
      " |      Create and return a new object.  See help(type) for accurate signature.\n",
      " |  \n",
      " |  __repr__(self, /)\n",
      " |      Return repr(self).\n",
      " |  \n",
      " |  __reversed__(...)\n",
      " |      L.__reversed__() -- return a reverse iterator over the list\n",
      " |  \n",
      " |  __rmul__(self, value, /)\n",
      " |      Return self*value.\n",
      " |  \n",
      " |  __setitem__(self, key, value, /)\n",
      " |      Set self[key] to value.\n",
      " |  \n",
      " |  __sizeof__(...)\n",
      " |      L.__sizeof__() -- size of L in memory, in bytes\n",
      " |  \n",
      " |  append(...)\n",
      " |      L.append(object) -> None -- append object to end\n",
      " |  \n",
      " |  clear(...)\n",
      " |      L.clear() -> None -- remove all items from L\n",
      " |  \n",
      " |  copy(...)\n",
      " |      L.copy() -> list -- a shallow copy of L\n",
      " |  \n",
      " |  count(...)\n",
      " |      L.count(value) -> integer -- return number of occurrences of value\n",
      " |  \n",
      " |  extend(...)\n",
      " |      L.extend(iterable) -> None -- extend list by appending elements from the iterable\n",
      " |  \n",
      " |  index(...)\n",
      " |      L.index(value, [start, [stop]]) -> integer -- return first index of value.\n",
      " |      Raises ValueError if the value is not present.\n",
      " |  \n",
      " |  insert(...)\n",
      " |      L.insert(index, object) -- insert object before index\n",
      " |  \n",
      " |  pop(...)\n",
      " |      L.pop([index]) -> item -- remove and return item at index (default last).\n",
      " |      Raises IndexError if list is empty or index is out of range.\n",
      " |  \n",
      " |  remove(...)\n",
      " |      L.remove(value) -> None -- remove first occurrence of value.\n",
      " |      Raises ValueError if the value is not present.\n",
      " |  \n",
      " |  reverse(...)\n",
      " |      L.reverse() -- reverse *IN PLACE*\n",
      " |  \n",
      " |  sort(...)\n",
      " |      L.sort(key=None, reverse=False) -> None -- stable sort *IN PLACE*\n",
      " |  \n",
      " |  ----------------------------------------------------------------------\n",
      " |  Data and other attributes defined here:\n",
      " |  \n",
      " |  __hash__ = None\n",
      "\n"
     ]
    }
   ],
   "source": [
    "help(list)"
   ]
  },
  {
   "cell_type": "code",
   "execution_count": 4,
   "metadata": {},
   "outputs": [
    {
     "name": "stdout",
     "output_type": "stream",
     "text": [
      "4\n",
      "[2, 34, 5, 67]\n"
     ]
    }
   ],
   "source": [
    "\n",
    "# lista usa [ ]\n",
    "lista = [2, 34, 5, 67]\n",
    "# tamanho lista\n",
    "print(len(lista))\n",
    "# imprime lista\n",
    "print(lista)"
   ]
  },
  {
   "cell_type": "code",
   "execution_count": 9,
   "metadata": {},
   "outputs": [
    {
     "name": "stdout",
     "output_type": "stream",
     "text": [
      "<class 'list'>\n",
      "4\n",
      "[2, 'Alison', 34, 'Fernanda']\n"
     ]
    }
   ],
   "source": [
    "# a lista é heterogenia\n",
    "lista2 = [2,\"Alison\",34,\"Fernanda\"]\n",
    "print(type(lista2))\n",
    "print(len(lista2))\n",
    "print(lista2)"
   ]
  },
  {
   "cell_type": "code",
   "execution_count": 15,
   "metadata": {},
   "outputs": [
    {
     "name": "stdout",
     "output_type": "stream",
     "text": [
      "2\n",
      "2\n",
      "34\n",
      "Alison\n",
      "5\n",
      "34\n",
      "67\n",
      "Fernanda\n"
     ]
    }
   ],
   "source": [
    "# percorrendo a lista\n",
    "cont = 0\n",
    "while cont < len(lista2):\n",
    "    print(lista[cont])\n",
    "    print(lista2[cont])\n",
    "    cont += 1\n",
    "    "
   ]
  },
  {
   "cell_type": "code",
   "execution_count": 21,
   "metadata": {},
   "outputs": [
    {
     "name": "stdout",
     "output_type": "stream",
     "text": [
      "[2, 'Raquel', 5.9, ['Joao', 'maria', 'Pedro']]\n"
     ]
    }
   ],
   "source": [
    "# uma lista pode conter outra lista dentro dela\n",
    "lista3 = [2, 'Raquel', 5.9, ['Joao', 'maria', 'Pedro']]\n",
    "print(lista3)"
   ]
  },
  {
   "cell_type": "code",
   "execution_count": 25,
   "metadata": {},
   "outputs": [
    {
     "name": "stdout",
     "output_type": "stream",
     "text": [
      "['Joao', 'maria', 'Pedro']\n",
      "Pedro\n",
      "maria\n",
      "Joao\n"
     ]
    }
   ],
   "source": [
    "# para acessar uma lista dentro de uma lista que esta dentro de outra é assim\n",
    "# [-1] significa o ultimo elemento\n",
    "print(lista3[-1])\n",
    "\n",
    "# para acessar um elemento especifico dentro de uma sublista é assim\n",
    "print(lista3[-1][2])\n",
    "print(lista3[-1][1])\n",
    "print(lista3[-1][0])"
   ]
  },
  {
   "cell_type": "code",
   "execution_count": 27,
   "metadata": {},
   "outputs": [
    {
     "name": "stdout",
     "output_type": "stream",
     "text": [
      "[2, 'Raquel', 5.9]\n",
      "[2, 'Raquel', 5.9, ['Joao', 'maria', 'Pedro']]\n"
     ]
    }
   ],
   "source": [
    "# Usando o fatiamento \n",
    "print(lista3[0:3])\n",
    "print(lista3[0:4])"
   ]
  },
  {
   "cell_type": "code",
   "execution_count": 29,
   "metadata": {},
   "outputs": [
    {
     "name": "stdout",
     "output_type": "stream",
     "text": [
      "['Raquel', 5.9, ['Joao', 'maria', 'Pedro']]\n"
     ]
    }
   ],
   "source": [
    "# imprimindo os 3 ultimos elementos \n",
    "print(lista3[-3:])"
   ]
  },
  {
   "cell_type": "code",
   "execution_count": 31,
   "metadata": {},
   "outputs": [
    {
     "name": "stdout",
     "output_type": "stream",
     "text": [
      "['Joao', 'maria', 'Pedro']\n"
     ]
    }
   ],
   "source": [
    "# imprimindo os elementos da sublista usando o fatiamento\n",
    "print(lista3[-1][-3:])"
   ]
  },
  {
   "cell_type": "code",
   "execution_count": 33,
   "metadata": {},
   "outputs": [
    {
     "name": "stdout",
     "output_type": "stream",
     "text": [
      "[1000, 2, 3, 4, 5, 6]\n"
     ]
    }
   ],
   "source": [
    "# lembre-se que uma variavel é uma referencia a um objeto sendo assim quando faço uma variavél apontar para um objeto\n",
    "# não estou criando outro objeto só estou criando um novo apontador para ele\n",
    "lista4 = [1,2,3,4,5,6]\n",
    "lista5 = lista4\n",
    "lista5[0] = 1000\n",
    "print(lista5)\n"
   ]
  },
  {
   "cell_type": "code",
   "execution_count": 37,
   "metadata": {},
   "outputs": [
    {
     "name": "stdout",
     "output_type": "stream",
     "text": [
      "[11, 22, 33, 44, 55, 66, 77]\n",
      "[0, 1, 33, 44, 55, 66, 77, 'Josefina']\n"
     ]
    }
   ],
   "source": [
    "# Para resolver o problema acima temos que copiar o objeto,\n",
    "lista6 = [11,22,33,44,55,66,77]\n",
    "lista7 = lista6[:]\n",
    "lista7[0] = 0\n",
    "lista7[1] = 1\n",
    "lista7.append(\"Josefina\")\n",
    "print(lista6)\n",
    "print(lista7)"
   ]
  },
  {
   "cell_type": "code",
   "execution_count": 41,
   "metadata": {},
   "outputs": [
    {
     "name": "stdout",
     "output_type": "stream",
     "text": [
      "[2, 34, 5, 67, 2, 'Alison', 34, 'Fernanda', 2, 'Raquel', 5.9, ['Joao', 'maria', 'Pedro'], 1000, 2, 3, 4, 5, 6, 1000, 2, 3, 4, 5, 6, 11, 22, 33, 44, 55, 66, 77, 0, 1, 33, 44, 55, 66, 77, 'Josefina']\n"
     ]
    }
   ],
   "source": [
    "# concatenando listas\n",
    "listao = lista + lista2 +lista3 + lista4 +lista5 + lista6 +lista7 \n",
    "print(listao)"
   ]
  },
  {
   "cell_type": "code",
   "execution_count": 43,
   "metadata": {},
   "outputs": [
    {
     "name": "stdout",
     "output_type": "stream",
     "text": [
      "[5, 67, 2, 'Alison', 34, 'Fernanda', 2, 'Raquel', 5.9, ['Joao', 'maria', 'Pedro'], 1000, 2, 3, 4, 5, 6, 1000, 2, 3, 4, 5, 6, 11, 22, 33, 44, 55, 66, 77, 0, 1, 33, 44, 55, 66, 77, 'Josefina']\n"
     ]
    }
   ],
   "source": [
    "# remover elemento de uma lista\n",
    "# pop passa o indice da posicao\n",
    "listao.pop(0)\n",
    "print(listao)\n"
   ]
  },
  {
   "cell_type": "code",
   "execution_count": 44,
   "metadata": {},
   "outputs": [
    {
     "name": "stdout",
     "output_type": "stream",
     "text": [
      "[5, 67, 2, 34, 'Fernanda', 2, 'Raquel', 5.9, ['Joao', 'maria', 'Pedro'], 1000, 2, 3, 4, 5, 6, 1000, 2, 3, 4, 5, 6, 11, 22, 33, 44, 55, 66, 77, 0, 1, 33, 44, 55, 66, 77, 'Josefina']\n"
     ]
    }
   ],
   "source": [
    "# remover usando o remove, com ele digo exatamente oque quero remover\n",
    "listao.remove('Alison')\n",
    "print(listao)"
   ]
  }
 ],
 "metadata": {
  "kernelspec": {
   "display_name": "Python 3",
   "language": "python",
   "name": "python3"
  },
  "language_info": {
   "codemirror_mode": {
    "name": "ipython",
    "version": 3
   },
   "file_extension": ".py",
   "mimetype": "text/x-python",
   "name": "python",
   "nbconvert_exporter": "python",
   "pygments_lexer": "ipython3",
   "version": "3.5.2"
  }
 },
 "nbformat": 4,
 "nbformat_minor": 2
}
