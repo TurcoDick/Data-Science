{
 "cells": [
  {
   "cell_type": "code",
   "execution_count": 33,
   "metadata": {},
   "outputs": [
    {
     "name": "stdout",
     "output_type": "stream",
     "text": [
      "{'Lex luthor': 54, 'Fernanda': 26, 'Alison': 29}\n"
     ]
    }
   ],
   "source": [
    "# são compostos por um conjunto de chaves:valor\n",
    "dicionario = {'Alison':29, 'Fernanda':26, 'Lex luthor':54}\n",
    "print(dicionario)"
   ]
  },
  {
   "cell_type": "code",
   "execution_count": 8,
   "metadata": {},
   "outputs": [
    {
     "name": "stdout",
     "output_type": "stream",
     "text": [
      "29\n",
      "26\n"
     ]
    }
   ],
   "source": [
    "# acessando um elemento especifico\n",
    "print(dicionario['Alison'])\n",
    "print(dicionario['Fernanda'])"
   ]
  },
  {
   "cell_type": "code",
   "execution_count": 14,
   "metadata": {},
   "outputs": [
    {
     "name": "stdout",
     "output_type": "stream",
     "text": [
      "54 keys  dict_keys(['Lex luthor', 'Fernanda', 'Alison'])\n",
      "26 keys  dict_keys(['Lex luthor', 'Fernanda', 'Alison'])\n",
      "29 keys  dict_keys(['Lex luthor', 'Fernanda', 'Alison'])\n"
     ]
    }
   ],
   "source": [
    "for k in dicionario:\n",
    "    print(dicionario[k],end=' ')\n",
    "    print(\"keys \",dicionario.keys())\n",
    "    #print(dicionario.)\n",
    "    #print(dicionario.)\n",
    "    #print(dicionario.)\n",
    "    #print(dicionario.)\n",
    "    #print(dicionario.)\n",
    "    #print(dicionario.)"
   ]
  },
  {
   "cell_type": "code",
   "execution_count": 30,
   "metadata": {},
   "outputs": [
    {
     "name": "stdout",
     "output_type": "stream",
     "text": [
      "keys  dict_keys(['Fernanda', 'Alison'])\n",
      "items  dict_items([('Fernanda', 26), ('Alison', 29)])\n",
      "popitem ('Fernanda', 26)\n",
      "values dict_values([29])\n",
      "update None\n"
     ]
    }
   ],
   "source": [
    "\n",
    "print(\"keys \" ,dicionario.keys())\n",
    "print(\"items \" ,dicionario.items())\n",
    "#print(\"pop\" ,dicionario.pop(1))\n",
    "print(\"popitem\" , dicionario.popitem())\n",
    "print(\"values\",dicionario.values())\n",
    "print(\"update\" ,dicionario.update())\n"
   ]
  },
  {
   "cell_type": "code",
   "execution_count": 34,
   "metadata": {},
   "outputs": [
    {
     "name": "stdout",
     "output_type": "stream",
     "text": [
      "True\n"
     ]
    }
   ],
   "source": [
    "# para saber se algum elemento esta no dicionario pode ser feito assim tbm\n",
    "print('Lex luthor' in dicionario)"
   ]
  }
 ],
 "metadata": {
  "kernelspec": {
   "display_name": "Python 3",
   "language": "python",
   "name": "python3"
  },
  "language_info": {
   "codemirror_mode": {
    "name": "ipython",
    "version": 3
   },
   "file_extension": ".py",
   "mimetype": "text/x-python",
   "name": "python",
   "nbconvert_exporter": "python",
   "pygments_lexer": "ipython3",
   "version": "3.5.2"
  }
 },
 "nbformat": 4,
 "nbformat_minor": 2
}
