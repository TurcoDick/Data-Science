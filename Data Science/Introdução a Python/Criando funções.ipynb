{
 "cells": [
  {
   "cell_type": "code",
   "execution_count": 2,
   "metadata": {},
   "outputs": [
    {
     "name": "stdout",
     "output_type": "stream",
     "text": [
      "33\n"
     ]
    }
   ],
   "source": [
    "#\n",
    "#\n",
    "#\n",
    "def somar(n1,n2):\n",
    "    return n1 + n2\n",
    "\n",
    "print(somar(10,23))"
   ]
  },
  {
   "cell_type": "code",
   "execution_count": 12,
   "metadata": {},
   "outputs": [
    {
     "name": "stdout",
     "output_type": "stream",
     "text": [
      "Eu sou uma função\n",
      "Aprendendo Python\n"
     ]
    }
   ],
   "source": [
    "def imprimir():\n",
    "    print(\"Eu sou uma função\")\n",
    "    print(\"Aprendendo Python\")\n",
    "    \n",
    "imprimir()"
   ]
  },
  {
   "cell_type": "code",
   "execution_count": 15,
   "metadata": {},
   "outputs": [
    {
     "name": "stdout",
     "output_type": "stream",
     "text": [
      "True\n",
      "False\n"
     ]
    }
   ],
   "source": [
    "def eh_par(x):\n",
    "    return x % 2 == 0\n",
    "\n",
    "print(eh_par(10))\n",
    "print(eh_par(11))"
   ]
  },
  {
   "cell_type": "code",
   "execution_count": 47,
   "metadata": {},
   "outputs": [
    {
     "name": "stdout",
     "output_type": "stream",
     "text": [
      "245\n"
     ]
    }
   ],
   "source": [
    "# a quantidade de argumentos é indefinida\n",
    "\n",
    "def foo(*args):\n",
    "    return sum(args)\n",
    "\n",
    "# assim estamos dizendo que cada elemento é um argumento\n",
    "resultado = foo(*(1,2,44,55,66,77))\n",
    "print(resultado)    "
   ]
  },
  {
   "cell_type": "code",
   "execution_count": 48,
   "metadata": {},
   "outputs": [
    {
     "name": "stdout",
     "output_type": "stream",
     "text": [
      "21\n"
     ]
    }
   ],
   "source": [
    "# a quantidade de argumentos é indefinida\n",
    "\n",
    "def foo(*args):\n",
    "    return sum(*args)\n",
    "\n",
    "# estou passando uma lista, ela é somente um argumento, porem mesmo assim a função sum soma seus elementos\n",
    "print(foo([1,2,3,4,5,6]))"
   ]
  },
  {
   "cell_type": "code",
   "execution_count": 32,
   "metadata": {},
   "outputs": [
    {
     "name": "stdout",
     "output_type": "stream",
     "text": [
      "120\n"
     ]
    }
   ],
   "source": [
    "# Recursividade\n",
    "# fatorial -> 5! = % * 4 * 3 * 2 * 1 = 120\n",
    "\n",
    "def fat(n):\n",
    "    if n == 0 or n ==1:\n",
    "        return 1\n",
    "    return n * fat(n - 1)\n",
    "\n",
    "print(fat(5))"
   ]
  },
  {
   "cell_type": "code",
   "execution_count": 34,
   "metadata": {},
   "outputs": [
    {
     "name": "stdout",
     "output_type": "stream",
     "text": [
      "Default\n",
      "Chavez\n"
     ]
    }
   ],
   "source": [
    "# parametro por default\n",
    "\n",
    "def imprimir_nome(nome='Default'):\n",
    "    print(nome)\n",
    "\n",
    "imprimir_nome()\n",
    "imprimir_nome(\"Chavez\")"
   ]
  },
  {
   "cell_type": "code",
   "execution_count": 39,
   "metadata": {},
   "outputs": [
    {
     "name": "stdout",
     "output_type": "stream",
     "text": [
      "60\n"
     ]
    }
   ],
   "source": [
    "# passando funções como parametro\n",
    "def somar(x, y, z, f):\n",
    "    return x + f(y,z)\n",
    "\n",
    "def f(n1, n2):\n",
    "    return n1 + n2\n",
    "\n",
    "print(somar(10,20,30,f))"
   ]
  },
  {
   "cell_type": "code",
   "execution_count": 43,
   "metadata": {},
   "outputs": [
    {
     "name": "stdout",
     "output_type": "stream",
     "text": [
      "8\n",
      "20\n"
     ]
    }
   ],
   "source": [
    "# funções lambda = funções simples\n",
    "# OBS: parece que \n",
    "a = lambda x : x * 2\n",
    "print(a(4))\n",
    "print(a(10))"
   ]
  }
 ],
 "metadata": {
  "kernelspec": {
   "display_name": "Python 3",
   "language": "python",
   "name": "python3"
  },
  "language_info": {
   "codemirror_mode": {
    "name": "ipython",
    "version": 3
   },
   "file_extension": ".py",
   "mimetype": "text/x-python",
   "name": "python",
   "nbconvert_exporter": "python",
   "pygments_lexer": "ipython3",
   "version": "3.5.2"
  }
 },
 "nbformat": 4,
 "nbformat_minor": 2
}
