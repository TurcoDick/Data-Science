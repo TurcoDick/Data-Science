{
 "cells": [
  {
   "cell_type": "code",
   "execution_count": 1,
   "metadata": {
    "collapsed": true
   },
   "outputs": [],
   "source": [
    "# é simple e muito util, saber criar matrizes com NumPy\n",
    "\n",
    "import numpy as np\n",
    "\n",
    "# varias listas aleátorias = obs: tamanho igual, ja ja vou testar com tamanhos diferentes\n",
    "joao_pts = [20,30,40,15]\n",
    "pedro_pts = [100,24,48,23]\n",
    "maria_pts = [92,22,34,12]\n",
    "marcos_pts = [12,34,12,43]\n",
    "\n",
    "pontos = np.array([joao_pts,pedro_pts,maria_pts,marcos_pts]) "
   ]
  },
  {
   "cell_type": "code",
   "execution_count": 2,
   "metadata": {},
   "outputs": [
    {
     "data": {
      "text/plain": [
       "array([[ 20,  30,  40,  15],\n",
       "       [100,  24,  48,  23],\n",
       "       [ 92,  22,  34,  12],\n",
       "       [ 12,  34,  12,  43]])"
      ]
     },
     "execution_count": 2,
     "metadata": {},
     "output_type": "execute_result"
    }
   ],
   "source": [
    "pontos\n"
   ]
  },
  {
   "cell_type": "code",
   "execution_count": 3,
   "metadata": {
    "collapsed": true
   },
   "outputs": [],
   "source": [
    "# testando com listas de tamanhos diferentes\n",
    "joao_pts2 = [20,30,40,15]\n",
    "pedro_pts2 = [100,24,23]\n",
    "maria_pts2 = [92,34,12]\n",
    "marcos_pts2 = [12,34,12,43]\n",
    "\n",
    "pontos2 = np.array([joao_pts2,pedro_pts2,maria_pts2,marcos_pts2]) "
   ]
  },
  {
   "cell_type": "code",
   "execution_count": 4,
   "metadata": {},
   "outputs": [
    {
     "data": {
      "text/plain": [
       "array([list([20, 30, 40, 15]), list([100, 24, 23]), list([92, 34, 12]),\n",
       "       list([12, 34, 12, 43])], dtype=object)"
      ]
     },
     "execution_count": 4,
     "metadata": {},
     "output_type": "execute_result"
    }
   ],
   "source": [
    "pontos2"
   ]
  },
  {
   "cell_type": "code",
   "execution_count": 5,
   "metadata": {},
   "outputs": [
    {
     "data": {
      "text/plain": [
       "array([20, 30, 40, 15])"
      ]
     },
     "execution_count": 5,
     "metadata": {},
     "output_type": "execute_result"
    }
   ],
   "source": [
    "# buscando uma linha especifica\n",
    "pontos[0]"
   ]
  },
  {
   "cell_type": "code",
   "execution_count": 6,
   "metadata": {},
   "outputs": [
    {
     "data": {
      "text/plain": [
       "24"
      ]
     },
     "execution_count": 6,
     "metadata": {},
     "output_type": "execute_result"
    }
   ],
   "source": [
    "# buscando um elemento especifico\n",
    "pontos[1,1]"
   ]
  },
  {
   "cell_type": "code",
   "execution_count": 8,
   "metadata": {},
   "outputs": [
    {
     "name": "stdout",
     "output_type": "stream",
     "text": [
      "[ 0  1  2  3  4  5  6  7  8  9 10 11 12 13 14 15 16 17 18 19]\n"
     ]
    }
   ],
   "source": [
    "# criando um array para mais tarde transforma-lo em uma matriz 5x4\n",
    "my_data = np.arange(0,20)\n",
    "print(my_data)"
   ]
  },
  {
   "cell_type": "code",
   "execution_count": 10,
   "metadata": {},
   "outputs": [
    {
     "name": "stdout",
     "output_type": "stream",
     "text": [
      "[[ 0  1  2  3]\n",
      " [ 4  5  6  7]\n",
      " [ 8  9 10 11]\n",
      " [12 13 14 15]\n",
      " [16 17 18 19]]\n"
     ]
    }
   ],
   "source": [
    "# atenção com essa função pois acho que posso usa-la nos arquivos da IC\n",
    "mat1 = np.reshape(my_data,(5,4))\n",
    "print(mat1)"
   ]
  },
  {
   "cell_type": "code",
   "execution_count": 11,
   "metadata": {},
   "outputs": [
    {
     "name": "stdout",
     "output_type": "stream",
     "text": [
      "18\n"
     ]
    }
   ],
   "source": [
    "# buscando um elemento pelo modo que ja conheço, linha/coluna\n",
    "print(mat1[4,2])"
   ]
  },
  {
   "cell_type": "code",
   "execution_count": 18,
   "metadata": {},
   "outputs": [
    {
     "name": "stdout",
     "output_type": "stream",
     "text": [
      "7\n"
     ]
    }
   ],
   "source": [
    "# buscando um elemento pela função item, ela conta de forma linear os elementos e me traz o seu valor\n",
    "lista = [2,5,6,3,4,7,88,99,6,65,12,54,47,00]\n",
    "mat2 = np.reshape(lista,(2,7))\n",
    "print(mat2.item(5))"
   ]
  }
 ],
 "metadata": {
  "kernelspec": {
   "display_name": "Python 3",
   "language": "python",
   "name": "python3"
  },
  "language_info": {
   "codemirror_mode": {
    "name": "ipython",
    "version": 3
   },
   "file_extension": ".py",
   "mimetype": "text/x-python",
   "name": "python",
   "nbconvert_exporter": "python",
   "pygments_lexer": "ipython3",
   "version": "3.5.2"
  }
 },
 "nbformat": 4,
 "nbformat_minor": 2
}
